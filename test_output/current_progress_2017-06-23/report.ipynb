{
 "cells": [
  {
   "cell_type": "markdown",
   "metadata": {},
   "source": [
    "## DNA channel prediction from transmitted light channel\n",
    "The goal is to create a model capable of taking in (3D) transmitted light images of cells and predicting what the DNA channel would be. The original CZI images are too large to fit in memory, so we train the model by looking at smaller, random \"chunks\" of the original image. We also downsize the original image so each chunk can contain ~1-2 cells."
   ]
  },
  {
   "cell_type": "markdown",
   "metadata": {},
   "source": [
    "Downsized transmitted light and DNA channels with 3 randomly selected chunks.  \n",
    "![downsized trans](report_images/chunk_selection_trans.png)\n",
    "![downsized dna](report_images/chunk_selection_dna.png)\n",
    "![chunk 0](report_images/chunk_0.png)\n",
    "![chunk 1](report_images/chunk_0.png)\n",
    "![chunk 2](report_images/chunk_0.png)"
   ]
  },
  {
   "cell_type": "markdown",
   "metadata": {},
   "source": [
    "For reference, this is the original size with the same size chunks.\n",
    "![original with chunks](report_images/original.png)"
   ]
  },
  {
   "cell_type": "markdown",
   "metadata": {},
   "source": [
    "### Preliminary Results\n",
    "The model was trained on single images as a proof of concept. Some example chunks are shown below. The columns are: transmitted light channel, DNA channel, model-predicted DNA channel.\n",
    "![example 0](report_images/example_0.png)\n",
    "![example 1](report_images/example_0.png)\n",
    "![example 2](report_images/example_0.png)\n",
    "![example 3](report_images/example_0.png)"
   ]
  }
 ],
 "metadata": {
  "kernelspec": {
   "display_name": "Python 3",
   "language": "python",
   "name": "python3"
  },
  "language_info": {
   "codemirror_mode": {
    "name": "ipython",
    "version": 3
   },
   "file_extension": ".py",
   "mimetype": "text/x-python",
   "name": "python",
   "nbconvert_exporter": "python",
   "pygments_lexer": "ipython3",
   "version": "3.5.2"
  }
 },
 "nbformat": 4,
 "nbformat_minor": 2
}
