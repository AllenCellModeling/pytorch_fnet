{
 "cells": [
  {
   "cell_type": "code",
   "execution_count": 3,
   "metadata": {},
   "outputs": [
    {
     "name": "stdout",
     "output_type": "stream",
     "text": [
      "loaded dataset from: data/dataset_saves/ttf_dna_no_hots.ds\n",
      "loaded dataset from: data/dataset_saves/ttf_tub_nocap.ds\n",
      "Tubulin test examples DNA train set\n",
      "00          data/no_hots_combo/3500000636_100X_20170227_F04_P28.czi\n",
      "01          data/no_hots_combo/3500000636_100X_20170227_F04_P27.czi\n",
      "02          data/no_hots_combo/3500000635_100X_20170227_F07_P21.czi\n",
      "03          data/no_hots_combo/3500000523_100X_20170314_D04_P06.czi\n",
      "04          data/no_hots_combo/3500000635_100X_20170227_F07_P24.czi\n",
      "05          data/no_hots_combo/3500000635_100X_20170227_E08_P21.czi\n",
      "06 in train data/no_hots_combo/3500000527_100X_20170314_D07_P31.czi\n",
      "07 in train data/no_hots_combo/3500000527_100X_20170314_D04_P12.czi\n",
      "08          data/no_hots_combo/3500000636_100X_20170227_E07_P17.czi\n",
      "09          data/no_hots_combo/3500000636_100X_20170227_E04_P04.czi\n",
      "10          data/no_hots_combo/3500000635_100X_20170227_E07_P06.czi\n",
      "11          data/no_hots_combo/3500000635_100X_20170227_E08_P13.czi\n",
      "12 in train data/no_hots_combo/3500000523_100X_20170314_D04_P04.czi\n",
      "13 in train data/no_hots_combo/3500000527_100X_20170314_D06_P20.czi\n",
      "14          data/no_hots_combo/3500000635_100X_20170227_E08_P18.czi\n",
      "15          data/no_hots_combo/3500000636_100X_20170227_E05_P06.czi\n",
      "16          data/no_hots_combo/3500000636_100X_20170227_E05_P11.czi\n",
      "17 in train data/no_hots_combo/3500000523_100X_20170314_D06_P16.czi\n",
      "18          data/no_hots_combo/3500000636_100X_20170227_E05_P09.czi\n",
      "19          data/no_hots_combo/3500000636_100X_20170227_E04_P05.czi\n",
      "20          data/no_hots_combo/3500000636_100X_20170227_F05_P24.czi\n",
      "21          data/no_hots_combo/3500000636_100X_20170227_F08_P20.czi\n",
      "22 in train data/no_hots_combo/3500000527_100X_20170314_D04_P06.czi\n",
      "23          data/no_hots_combo/3500000636_100X_20170227_E05_P07.czi\n",
      "24          data/no_hots_combo/3500000523_100X_20170314_D07_P25.czi\n",
      "25 in train data/no_hots_combo/3500000527_100X_20170314_D06_P24.czi\n",
      "26 in train data/no_hots_combo/3500000523_100X_20170314_D05_P07.czi\n",
      "27 in train data/no_hots_combo/3500000523_100X_20170314_D05_P11.czi\n",
      "28          data/no_hots_combo/3500000636_100X_20170227_F08_P19.czi\n",
      "29          data/no_hots_combo/3500000636_100X_20170227_F04_P30.czi\n",
      "30 in train data/no_hots_combo/3500000523_100X_20170314_D07_P24.czi\n"
     ]
    }
   ],
   "source": [
    "import util.data.functions\n",
    "import os\n",
    "\n",
    "paths_datasets = (\n",
    "'data/dataset_saves/ttf_dna_no_hots.ds',\n",
    "'data/dataset_saves/ttf_tub_nocap.ds',\n",
    ")\n",
    "\n",
    "dataset_dna = util.data.functions.load_dataset(paths_datasets[0])\n",
    "dataset_tub = util.data.functions.load_dataset(paths_datasets[1])\n",
    "\n",
    "train_set_dna = dataset_dna.get_train_set()\n",
    "test_set_tub = dataset_tub.get_test_set()\n",
    "\n",
    "train_set_fnames = set()\n",
    "for i, entry in enumerate(train_set_dna):\n",
    "    fname = os.path.basename(entry)\n",
    "    train_set_fnames.add(fname)\n",
    "\n",
    "print('Tubulin test examples DNA train set')\n",
    "for i, entry in enumerate(test_set_tub):\n",
    "    fname = os.path.basename(entry)\n",
    "    okay_maybe = ''\n",
    "    if fname in train_set_fnames:\n",
    "        okay_maybe = 'in train'\n",
    "    print('{:02d} {:8s} {:s}'.format(i, okay_maybe, entry))\n"
   ]
  }
 ],
 "metadata": {
  "kernelspec": {
   "display_name": "Python 3",
   "language": "python",
   "name": "python3"
  },
  "language_info": {
   "codemirror_mode": {
    "name": "ipython",
    "version": 3
   },
   "file_extension": ".py",
   "mimetype": "text/x-python",
   "name": "python",
   "nbconvert_exporter": "python",
   "pygments_lexer": "ipython3",
   "version": "3.5.2"
  }
 },
 "nbformat": 4,
 "nbformat_minor": 2
}
