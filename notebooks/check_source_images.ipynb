{
 "cells": [
  {
   "cell_type": "code",
   "execution_count": 1,
   "metadata": {
    "scrolled": true
   },
   "outputs": [
    {
     "name": "stdout",
     "output_type": "stream",
     "text": [
      "\u001b[0m\u001b[01;32mTMP_test.ds\u001b[0m*                \u001b[01;32mttf_dna_no_hots.ds\u001b[0m*\r\n",
      "\u001b[01;32mfew_files.p\u001b[0m*                \u001b[01;32mttf_dna_no_hots_combo.ds\u001b[0m*\r\n",
      "\u001b[01;32mno_hots.p\u001b[0m*                  \u001b[01;32mttf_dna_one_file.ds\u001b[0m*\r\n",
      "\u001b[01;32mno_hots_2.p\u001b[0m*                \u001b[01;32mttf_fibrillarin_latest.ds\u001b[0m*\r\n",
      "\u001b[01;32mno_hots_combo.p\u001b[0m*            \u001b[01;32mttf_lamin_b1_latest.ds\u001b[0m*\r\n",
      "\u001b[01;32mnuc_mask.p\u001b[0m*                 \u001b[01;32mttf_memb_no_hots.ds\u001b[0m*\r\n",
      "\u001b[01;32mone_file.p\u001b[0m*                 \u001b[01;32mttf_myosin_iib_latest.ds\u001b[0m*\r\n",
      "\u001b[01;32mtimelapse.p\u001b[0m*                \u001b[01;32mttf_sec61_beta_latest.ds\u001b[0m*\r\n",
      "\u001b[01;32mttf_beta_actin_latest.ds\u001b[0m*   \u001b[01;32mttf_struct_no_hots_combo.ds\u001b[0m*\r\n",
      "\u001b[01;32mttf_desmoplakin_latest.ds\u001b[0m*  \u001b[01;32mttf_tom20.ds\u001b[0m*\r\n",
      "\u001b[01;32mttf_dic_memb.ds\u001b[0m*            \u001b[01;32mttf_tub_cap9.ds\u001b[0m*\r\n",
      "\u001b[01;32mttf_dna.ds\u001b[0m*                 \u001b[01;32mttf_tub_nocap.ds\u001b[0m*\r\n",
      "\u001b[01;32mttf_dna_cap6_latest.ds\u001b[0m*     \u001b[01;32mttf_zo1_latest.ds\u001b[0m*\r\n",
      "\u001b[01;32mttf_dna_latest.ds\u001b[0m*\r\n"
     ]
    }
   ],
   "source": [
    "%ls data/dataset_saves"
   ]
  },
  {
   "cell_type": "code",
   "execution_count": 5,
   "metadata": {
    "scrolled": false
   },
   "outputs": [
    {
     "name": "stdout",
     "output_type": "stream",
     "text": [
      "loaded dataset from: data/dataset_saves/ttf_dic_memb.ds\n",
      "DataSet3:\n",
      "active_set: train\n",
      "train/test/total: 15/26/41\n",
      "transforms: Resizer((0.97, 0.573, 0.573)) => <function sub_mean_norm at 0x7f6f04ff0598>\n",
      "            Resizer((0.97, 0.573, 0.573)) => <function sub_mean_norm at 0x7f6f04ff0598> => Capper(None to 6)\n",
      "reading: data/dic_images/DICLAMINB_100X_20170815_13_210_2-Scene-13-P34-B05.czi\n",
      "DEBUG: slices [0, 0, 6, slice(None, None, None), slice(None, None, None), slice(None, None, None), 0]\n"
     ]
    },
    {
     "name": "stderr",
     "output_type": "stream",
     "text": [
      "/opt/conda/envs/pytorch-py35/lib/python3.5/site-packages/scipy/ndimage/interpolation.py:568: UserWarning: From scipy 0.13.0, the output shape of zoom() is calculated with round() instead of int() - for these inputs the size of the returned array has changed.\n",
      "  \"the returned array has changed.\", UserWarning)\n"
     ]
    },
    {
     "name": "stdout",
     "output_type": "stream",
     "text": [
      "reading: data/dic_images/DICLAMINB_100X_20170815_13_210_2-Scene-16-P37-B05.czi\n",
      "DEBUG: slices [0, 0, 6, slice(None, None, None), slice(None, None, None), slice(None, None, None), 0]\n",
      "reading: data/dic_images/DICLAMINB_100X_20170815_13_210_2-Scene-01-P22-B04.czi\n",
      "DEBUG: slices [0, 0, 6, slice(None, None, None), slice(None, None, None), slice(None, None, None), 0]\n",
      "reading: data/dic_images/DICLAMINB_100X_20170815_13_210_1-Scene-06-P6-B02.czi\n",
      "DEBUG: slices [0, 0, 6, slice(None, None, None), slice(None, None, None), slice(None, None, None), 0]\n",
      "reading: data/dic_images/DICLAMINB_100X_20170815_13_210_1-Scene-04-P4-B02.czi\n",
      "DEBUG: slices [0, 0, 6, slice(None, None, None), slice(None, None, None), slice(None, None, None), 0]\n",
      "reading: data/dic_images/DICLAMINB_100X_20170815_13_210_1-Scene-14-P14-B03.czi\n",
      "DEBUG: slices [0, 0, 6, slice(None, None, None), slice(None, None, None), slice(None, None, None), 0]\n",
      "reading: data/dic_images/DICLAMINB_100X_20170815_13_210_1-Scene-15-P15-B03.czi\n",
      "DEBUG: slices [0, 0, 6, slice(None, None, None), slice(None, None, None), slice(None, None, None), 0]\n",
      "reading: data/dic_images/DICLAMINB_100X_20170815_13_210_1-Scene-07-P7-B02.czi\n",
      "DEBUG: slices [0, 0, 6, slice(None, None, None), slice(None, None, None), slice(None, None, None), 0]\n",
      "reading: data/dic_images/DICLAMINB_100X_20170815_13_210_2-Scene-19-P40-B05.czi\n",
      "DEBUG: slices [0, 0, 6, slice(None, None, None), slice(None, None, None), slice(None, None, None), 0]\n",
      "reading: data/dic_images/DICLAMINB_100X_20170815_13_210_2-Scene-06-P27-B04.czi\n",
      "DEBUG: slices [0, 0, 6, slice(None, None, None), slice(None, None, None), slice(None, None, None), 0]\n",
      "reading: data/dic_images/DICLAMINB_100X_20170815_13_210_2-Scene-02-P23-B04.czi\n",
      "DEBUG: slices [0, 0, 6, slice(None, None, None), slice(None, None, None), slice(None, None, None), 0]\n",
      "reading: data/dic_images/DICLAMINB_100X_20170815_13_210_2-Scene-07-P28-B04.czi\n",
      "DEBUG: slices [0, 0, 6, slice(None, None, None), slice(None, None, None), slice(None, None, None), 0]\n",
      "reading: data/dic_images/DICLAMINB_100X_20170815_13_210_2-Scene-12-P33-B05.czi\n",
      "DEBUG: slices [0, 0, 6, slice(None, None, None), slice(None, None, None), slice(None, None, None), 0]\n",
      "reading: data/dic_images/DICLAMINB_100X_20170815_13_210_1-Scene-10-P10-B03.czi\n",
      "DEBUG: slices [0, 0, 6, slice(None, None, None), slice(None, None, None), slice(None, None, None), 0]\n",
      "reading: data/dic_images/DICLAMINB_100X_20170815_13_210_1-Scene-05-P5-B02.czi\n",
      "DEBUG: slices [0, 0, 6, slice(None, None, None), slice(None, None, None), slice(None, None, None), 0]\n"
     ]
    },
    {
     "data": {
      "image/png": "[encoded data removed]",
      "text/plain": [
       "<matplotlib.figure.Figure at 0x7f6eeaa45d68>"
      ]
     },
     "metadata": {},
     "output_type": "display_data"
    },
    {
     "name": "stdout",
     "output_type": "stream",
     "text": [
      "***** Legend *****\n",
      "01: DICLAMINB_100X_20170815_13_210_2-Scene-13-P34-B05.czi 2206\n",
      "02: DICLAMINB_100X_20170815_13_210_2-Scene-16-P37-B05.czi 9574\n",
      "03: DICLAMINB_100X_20170815_13_210_2-Scene-01-P22-B04.czi 6558\n",
      "04: DICLAMINB_100X_20170815_13_210_1-Scene-06-P6-B02.czi 36553\n",
      "05: DICLAMINB_100X_20170815_13_210_1-Scene-04-P4-B02.czi 3232\n",
      "06: DICLAMINB_100X_20170815_13_210_1-Scene-14-P14-B03.czi 4221\n",
      "07: DICLAMINB_100X_20170815_13_210_1-Scene-15-P15-B03.czi 9894\n",
      "08: DICLAMINB_100X_20170815_13_210_1-Scene-07-P7-B02.czi 13009\n",
      "09: DICLAMINB_100X_20170815_13_210_2-Scene-19-P40-B05.czi 942\n",
      "10: DICLAMINB_100X_20170815_13_210_2-Scene-06-P27-B04.czi 15008\n",
      "11: DICLAMINB_100X_20170815_13_210_2-Scene-02-P23-B04.czi 29891\n",
      "12: DICLAMINB_100X_20170815_13_210_2-Scene-07-P28-B04.czi 2803\n",
      "13: DICLAMINB_100X_20170815_13_210_2-Scene-12-P33-B05.czi 2324\n",
      "14: DICLAMINB_100X_20170815_13_210_1-Scene-10-P10-B03.czi 3774\n",
      "15: DICLAMINB_100X_20170815_13_210_1-Scene-05-P5-B02.czi 19361\n"
     ]
    }
   ],
   "source": [
    "%run check_data --path_source data/dataset_saves/ttf_dic_memb.ds --plot_sel boxes --element_num 0 --apply_transforms"
   ]
  }
 ],
 "metadata": {
  "kernelspec": {
   "display_name": "Python 3",
   "language": "python",
   "name": "python3"
  },
  "language_info": {
   "codemirror_mode": {
    "name": "ipython",
    "version": 3
   },
   "file_extension": ".py",
   "mimetype": "text/x-python",
   "name": "python",
   "nbconvert_exporter": "python",
   "pygments_lexer": "ipython3",
   "version": "3.5.2"
  }
 },
 "nbformat": 4,
 "nbformat_minor": 2
}
